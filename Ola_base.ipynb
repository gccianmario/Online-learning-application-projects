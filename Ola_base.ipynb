{
  "nbformat": 4,
  "nbformat_minor": 0,
  "metadata": {
    "colab": {
      "name": "Ola_sketch.ipynb",
      "provenance": [],
      "collapsed_sections": [
        "NaVfm6A8Iba5"
      ],
      "authorship_tag": "ABX9TyML1Nky+AvUv425O6mcq5Zv",
      "include_colab_link": true
    },
    "kernelspec": {
      "name": "python3",
      "display_name": "Python 3"
    },
    "language_info": {
      "name": "python"
    }
  },
  "cells": [
    {
      "cell_type": "markdown",
      "metadata": {
        "id": "view-in-github",
        "colab_type": "text"
      },
      "source": [
        "<a href=\"https://colab.research.google.com/github/gccianmario/Online-learning-application-projects/blob/main/Ola_base.ipynb\" target=\"_parent\"><img src=\"https://colab.research.google.com/assets/colab-badge.svg\" alt=\"Open In Colab\"/></a>"
      ]
    },
    {
      "cell_type": "markdown",
      "source": [
        "# Dictionary"
      ],
      "metadata": {
        "id": "JDqVBfXmgJAA"
      }
    },
    {
      "cell_type": "markdown",
      "source": [
        "\n",
        "\n"
      ],
      "metadata": {
        "id": "5mS3nTOKgT-r"
      }
    },
    {
      "cell_type": "markdown",
      "source": [
        "# Auxiliary functions"
      ],
      "metadata": {
        "id": "jkox8G9RMk-J"
      }
    },
    {
      "cell_type": "code",
      "source": [
        "import numpy as np\n",
        "from random import randint"
      ],
      "metadata": {
        "id": "fWkkixCBIKtS"
      },
      "execution_count": null,
      "outputs": []
    },
    {
      "cell_type": "code",
      "source": [
        "# it return a random list of probabilities that sum to 1-padding\n",
        "def get_probabilities(quantity, padding = 0.5):\n",
        "  if int(quantity) <= 0 :\n",
        "    raise Exception(\"quantity Value Error\")\n",
        "  if float(padding) < 0  or float(padding) >= 1:\n",
        "    raise Exception(\"padding Value Error\")\n",
        "  \n",
        "  probabilities = []\n",
        "  random_samples = np.array([0] * quantity)\n",
        "\n",
        "  for i in range(quantity):\n",
        "    random_samples[i] = float(randint(1, 100))\n",
        "  \n",
        "  normalizer = (1 - padding) / np.sum(random_samples)\n",
        "\n",
        "  for i in range(quantity):\n",
        "    probabilities.append(random_samples[i] * normalizer)\n",
        "\n",
        "  # add numerical noise to first element to try to ensure sum to 1-padding\n",
        "  probabilities[0] = probabilities[0] + ((1-padding) - np.sum(probabilities))\n",
        "  \n",
        "  return probabilities"
      ],
      "metadata": {
        "id": "eK6cFxvNHV7N"
      },
      "execution_count": null,
      "outputs": []
    },
    {
      "cell_type": "markdown",
      "source": [
        "#Graph implementation"
      ],
      "metadata": {
        "id": "iHXtTLTXMoTN"
      }
    },
    {
      "cell_type": "markdown",
      "source": [
        "Graph is fully connected and therefore all the edges have strictly positive probabilities (in practice the secondary products displayed are just two and thus many of the edges are useless). In the second, assume that the graph is not fully connected and therefore some edges have zero probability. \n",
        "\n",
        "The behavior of the user in the graph is similar to that of the social influence. Thus, in the following project proposals, you need to resort to social influence techniques to evaluate the probabilities with which the user reaches the webpage with some specific primary product\n"
      ],
      "metadata": {
        "id": "iTRWEoVv83L7"
      }
    },
    {
      "cell_type": "code",
      "source": [
        "class Graph:\n",
        "  def __init__(self, max_size):\n",
        "    self.graph = {}\n",
        "    self.n_nodes = 0\n",
        "    self.max_size = max_size\n",
        "\n",
        "    if int(max_size) <= 0:\n",
        "      raise Exception(\"n_nodes Value Error\")\n",
        "\n",
        "  \n",
        "  # Add an edge to the graph  src: [(dest, weight)...]\n",
        "  def add_edge(self, src, dest, weight):\n",
        "    if not isinstance(src, Product):\n",
        "      raise Exception(\"source of edge Value Error\")\n",
        "    if not isinstance(dest, Product):\n",
        "      raise Exception(\"destination of edge Value Error\")\n",
        "\n",
        "    self.graph[src].append((dest, weight))\n",
        "  \n",
        "  # Add a node to the graph\n",
        "  def add_node(self, item):\n",
        "    if not isinstance(item, Product):\n",
        "      raise Exception(\"item is not a product Value Error\")\n",
        "    if(item in self.graph):\n",
        "      print(\"Item already in the graph\")\n",
        "      return\n",
        "    \n",
        "    self.graph[item] = list()\n",
        "    self.n_nodes = self.n_nodes + 1\n",
        "\n",
        "  # get all child nodes given a father\n",
        "  def get_child_nodes(self, father_node):\n",
        "    if not isinstance(father_node, Product):\n",
        "      raise Exception(\"node is not a product Value Error\")\n",
        "    if(father_node not in self.graph):\n",
        "      print(\"No match\")\n",
        "      return []\n",
        "    \n",
        "    return self.graph[father_node]\n",
        "\n",
        "  # Function to print adjacency list representation \n",
        "  def printGraph(self):\n",
        "    for (src, node_list) in self.graph.items():\n",
        "      print(f\"--- node: {src} ---\")\n",
        "      for (node, weight) in node_list:\n",
        "        print(f\"\\t( {src} )--[w:{weight:.3f}]-—>( {node} )\")"
      ],
      "metadata": {
        "id": "kFiid9ODkiNW"
      },
      "execution_count": null,
      "outputs": []
    },
    {
      "cell_type": "markdown",
      "source": [
        "function to generate n probabilities that sum to 1"
      ],
      "metadata": {
        "id": "GJM1KaKWgHsQ"
      }
    },
    {
      "cell_type": "code",
      "source": [
        "test = get_probabilities(5, padding=0.9)\n",
        "print(test)\n",
        "print(f\"sum to: {np.sum(test)}\")"
      ],
      "metadata": {
        "colab": {
          "base_uri": "https://localhost:8080/"
        },
        "id": "VSaMhQqZJsC6",
        "outputId": "8dff6aea-ea43-4408-aac3-27e5fb41bc53"
      },
      "execution_count": null,
      "outputs": [
        {
          "output_type": "stream",
          "name": "stdout",
          "text": [
            "[0.008176100628930816, 0.008805031446540879, 0.06289308176100628, 0.01132075471698113, 0.008805031446540879]\n",
            "sum to: 0.09999999999999998\n"
          ]
        }
      ]
    },
    {
      "cell_type": "markdown",
      "source": [
        "# User, Campaign, Product Class definition"
      ],
      "metadata": {
        "id": "7DcZiPkZ-hyP"
      }
    },
    {
      "cell_type": "code",
      "source": [
        "class Product:\n",
        "  def __init__(self, id, price, secondary_list = []):\n",
        "    self.id = id\n",
        "    self.price = price  # correspond to margin\n",
        "    self.secondary_list = secondary_list  # what to display after purchase (fixed)\n",
        "  \n",
        "  def __str__(self):\n",
        "    return f\"Product {self.id}\"\n",
        "\n",
        "  def add_secondary(self, product):\n",
        "    self.secondary_list.append(product)\n",
        "  "
      ],
      "metadata": {
        "id": "jyyWx16kJ1UY"
      },
      "execution_count": null,
      "outputs": []
    },
    {
      "cell_type": "code",
      "source": [
        "class User:\n",
        "  def __init__(self, id, reservation_price, lmbda, weighted_graph, alpha_function):\n",
        "    self.id = id\n",
        "    self.reservation_price = reservation_price\n",
        "    self.lmbda = lmbda\n",
        "    self.weighted_graph = weighted_graph  # pass here the full weighted graph associated with the user\n",
        "    self.alpha_function = alpha_function  # list of alpha_function specifing how the user react to a specific campaign"
      ],
      "metadata": {
        "id": "WUOIIEZHtp0w"
      },
      "execution_count": null,
      "outputs": []
    },
    {
      "cell_type": "code",
      "source": [
        "class Campaign:\n",
        "  def __init__(self, id, allocated_budget, value_per_click, alpha_i_max):\n",
        "    self.id = id\n",
        "    self.allocated_budget = allocated_budget\n",
        "    self.value_per_click = value_per_click\n",
        "    self.alpha_i_max = alpha_i_max\n",
        "\n",
        "  def change_budget(self, new_budget):\n",
        "    self.allocated_budget = new_budget\n",
        "  \n",
        "  def alpha_i(self, user_alpha_function):\n",
        "    return max(user_alpha_function(self.allocated_budget), self.alpha_i_max) # CHECK THIS POINT\n"
      ],
      "metadata": {
        "id": "bdHkrm5v-C3m"
      },
      "execution_count": null,
      "outputs": []
    },
    {
      "cell_type": "markdown",
      "source": [
        "# Alpha function generator and testing\n",
        "\n",
        "this function is a generator of alpha functions based on saturation speed and value where to saturate, they are all sigmoid functions\n",
        "\n"
      ],
      "metadata": {
        "id": "e0aYlBztgjxa"
      }
    },
    {
      "cell_type": "code",
      "source": [
        "def new_alpha_function(saturation_speed = 1, max_value = 1):\n",
        "  return lambda x: (-1 +  2 / (1 + np.exp(- saturation_speed * x)))*max_value"
      ],
      "metadata": {
        "id": "ESRKMQ74esvT"
      },
      "execution_count": null,
      "outputs": []
    },
    {
      "cell_type": "code",
      "source": [
        "import matplotlib.pyplot as plt\n",
        "\n",
        "test_alpha = [\n",
        "            new_alpha_function(saturation_speed=1, max_value=5),\n",
        "            new_alpha_function(saturation_speed=2, max_value=5),\n",
        "            new_alpha_function(saturation_speed=3, max_value=5),\n",
        "            new_alpha_function(saturation_speed=0.5, max_value=10),\n",
        "            new_alpha_function(saturation_speed=0.3, max_value=10),\n",
        "            new_alpha_function(saturation_speed=5, max_value=10)  \n",
        "]\n",
        "img, axss = plt.subplots(nrows=2, ncols=3, figsize=((13,6)))\n",
        "axs = axss.flatten()\n",
        "\n",
        "for i in range(6):\n",
        "  alpha_fun = new_alpha_function(saturation_speed=3, max_value=5)\n",
        "  x = np.linspace(0,10)\n",
        "  y = test_alpha[i](x) \n",
        "  axs[i].set_xlabel(\"budget\") \n",
        "  axs[i].set_ylabel(\"alpha_val\") \n",
        "  axs[i].plot(x,y) \n",
        "img.show()"
      ],
      "metadata": {
        "colab": {
          "base_uri": "https://localhost:8080/",
          "height": 388
        },
        "id": "ZFEtk2XKhZXT",
        "outputId": "5e4a8415-5097-4142-a49a-e907c9b20220"
      },
      "execution_count": null,
      "outputs": [
        {
          "output_type": "display_data",
          "data": {
            "text/plain": [
              "<Figure size 936x432 with 6 Axes>"
            ],
            "image/png": "[encoded data removed]"
          },
          "metadata": {
            "needs_background": "light"
          }
        }
      ]
    },
    {
      "cell_type": "markdown",
      "source": [
        "# Test Environment"
      ],
      "metadata": {
        "id": "NaVfm6A8Iba5"
      }
    },
    {
      "cell_type": "code",
      "source": [
        "prod1 = Product(1, 2.0, secondary_list=[2, 3])\n",
        "prod2 = Product(2, 2.5, secondary_list=[3, 4])\n",
        "prod3 = Product(3, 3.0, secondary_list=[1, 5])\n",
        "prod4 = Product(4, 4.0, secondary_list=[2, 5])\n",
        "prod5 = Product(5, 4.5, secondary_list=[1, 4])\n",
        "\n",
        "products = [prod1, prod2, prod3, prod4, prod5]"
      ],
      "metadata": {
        "id": "tTJ3R8YAIg7i"
      },
      "execution_count": null,
      "outputs": []
    },
    {
      "cell_type": "markdown",
      "source": [
        "Examples on how to use the graph"
      ],
      "metadata": {
        "id": "w0mE_Nrrp474"
      }
    },
    {
      "cell_type": "code",
      "source": [
        "graph = Graph(5)\n",
        "# node crearion\n",
        "graph.add_node(prod1)\n",
        "graph.add_node(prod2)\n",
        "graph.add_node(prod3)\n",
        "graph.add_node(prod4)\n",
        "graph.add_node(prod5)\n",
        "\n",
        "graph.printGraph()\n",
        "print(\"\\n\")\n",
        "\n",
        "# edge creation\n",
        "graph.add_edge(prod1, prod5, 3)\n",
        "graph.add_edge(prod1, prod2, 3)\n",
        "\n",
        "graph.add_edge(prod2, prod4, 3)\n",
        "graph.add_edge(prod2, prod3, 3)\n",
        "\n",
        "graph.add_edge(prod3, prod1, 3)\n",
        "graph.add_edge(prod3, prod5, 3)\n",
        "\n",
        "graph.printGraph()\n",
        "\n",
        "# child retrival\n",
        "print(\"\\nchilds of node 1:\")\n",
        "result = graph.get_child_nodes(prod1)\n",
        "print([f\"{node} weight:{weight}\" for (node, weight) in result])"
      ],
      "metadata": {
        "colab": {
          "base_uri": "https://localhost:8080/"
        },
        "id": "Mnp4VSHnM2Ud",
        "outputId": "e60b35ff-8ad2-463f-b410-52dd7e2bce27"
      },
      "execution_count": null,
      "outputs": [
        {
          "output_type": "stream",
          "name": "stdout",
          "text": [
            "--- node: Product 1 ---\n",
            "--- node: Product 2 ---\n",
            "--- node: Product 3 ---\n",
            "--- node: Product 4 ---\n",
            "--- node: Product 5 ---\n",
            "\n",
            "\n",
            "--- node: Product 1 ---\n",
            "\t( Product 1 )--[w:3.000]-—>( Product 5 )\n",
            "\t( Product 1 )--[w:3.000]-—>( Product 2 )\n",
            "--- node: Product 2 ---\n",
            "\t( Product 2 )--[w:3.000]-—>( Product 4 )\n",
            "\t( Product 2 )--[w:3.000]-—>( Product 3 )\n",
            "--- node: Product 3 ---\n",
            "\t( Product 3 )--[w:3.000]-—>( Product 1 )\n",
            "\t( Product 3 )--[w:3.000]-—>( Product 5 )\n",
            "--- node: Product 4 ---\n",
            "--- node: Product 5 ---\n",
            "\n",
            "childs of node 1:\n",
            "['Product 5 weight:3', 'Product 2 weight:3']\n"
          ]
        }
      ]
    },
    {
      "cell_type": "code",
      "source": [
        ""
      ],
      "metadata": {
        "id": "q3gRNYk7fS40"
      },
      "execution_count": null,
      "outputs": []
    }
  ]
}