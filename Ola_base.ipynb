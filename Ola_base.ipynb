{
  "nbformat": 4,
  "nbformat_minor": 0,
  "metadata": {
    "colab": {
      "name": "Ola_sketch.ipynb",
      "provenance": [],
      "collapsed_sections": [
        "iHXtTLTXMoTN",
        "e0aYlBztgjxa"
      ],
      "include_colab_link": true
    },
    "kernelspec": {
      "name": "python3",
      "display_name": "Python 3"
    },
    "language_info": {
      "name": "python"
    }
  },
  "cells": [
    {
      "cell_type": "markdown",
      "metadata": {
        "id": "view-in-github",
        "colab_type": "text"
      },
      "source": [
        "<a href=\"https://colab.research.google.com/github/gccianmario/Online-learning-application-projects/blob/main/Ola_base.ipynb\" target=\"_parent\"><img src=\"https://colab.research.google.com/assets/colab-badge.svg\" alt=\"Open In Colab\"/></a>"
      ]
    },
    {
      "cell_type": "markdown",
      "source": [
        "# Auxiliary functions"
      ],
      "metadata": {
        "id": "jkox8G9RMk-J"
      }
    },
    {
      "cell_type": "code",
      "source": [
        "import numpy as np\n",
        "from random import randint\n",
        "import matplotlib.pyplot as plt"
      ],
      "metadata": {
        "id": "fWkkixCBIKtS"
      },
      "execution_count": 1,
      "outputs": []
    },
    {
      "cell_type": "code",
      "source": [
        "# it return a random list of probabilities that sum to 1-padding\n",
        "def get_probabilities(quantity, padding = 0.5):\n",
        "  if int(quantity) <= 0 :\n",
        "    raise Exception(\"quantity Value Error\")\n",
        "  if float(padding) < 0  or float(padding) >= 1:\n",
        "    raise Exception(\"padding Value Error\")\n",
        "  \n",
        "  probabilities = []\n",
        "  random_samples = np.array([0] * quantity)\n",
        "\n",
        "  for i in range(quantity):\n",
        "    random_samples[i] = float(randint(1, 100))\n",
        "  \n",
        "  normalizer = (1 - padding) / np.sum(random_samples)\n",
        "\n",
        "  for i in range(quantity):\n",
        "    probabilities.append(random_samples[i] * normalizer)\n",
        "\n",
        "  # add numerical noise to first element to try to ensure sum to 1-padding\n",
        "  probabilities[0] = probabilities[0] + ((1-padding) - np.sum(probabilities))\n",
        "  \n",
        "  return probabilities"
      ],
      "metadata": {
        "id": "eK6cFxvNHV7N"
      },
      "execution_count": 2,
      "outputs": []
    },
    {
      "cell_type": "markdown",
      "source": [
        "example function to generate n probabilities that sum to 1-padding"
      ],
      "metadata": {
        "id": "GJM1KaKWgHsQ"
      }
    },
    {
      "cell_type": "code",
      "source": [
        "test = get_probabilities(5, padding=0.9)\n",
        "print(test)\n",
        "print(f\"sum to: {np.sum(test)}\")"
      ],
      "metadata": {
        "colab": {
          "base_uri": "https://localhost:8080/"
        },
        "id": "VSaMhQqZJsC6",
        "outputId": "4cdcca11-75a1-4337-ec39-bd3a19a0ff47"
      },
      "execution_count": 3,
      "outputs": [
        {
          "output_type": "stream",
          "name": "stdout",
          "text": [
            "[0.029078014184397157, 0.015248226950354606, 0.013120567375886521, 0.028014184397163112, 0.014539007092198578]\n",
            "sum to: 0.09999999999999998\n"
          ]
        }
      ]
    },
    {
      "cell_type": "markdown",
      "source": [
        "#Graph implementation"
      ],
      "metadata": {
        "id": "iHXtTLTXMoTN"
      }
    },
    {
      "cell_type": "markdown",
      "source": [
        "Graph is fully connected and therefore all the edges have strictly positive probabilities (in practice the secondary products displayed are just two and thus many of the edges are useless). In the second, assume that the graph is not fully connected and therefore some edges have zero probability. \n",
        "\n",
        "The behavior of the user in the graph is similar to that of the social influence. Thus, in the following project proposals, you need to resort to social influence techniques to evaluate the probabilities with which the user reaches the webpage with some specific primary product\n"
      ],
      "metadata": {
        "id": "iTRWEoVv83L7"
      }
    },
    {
      "cell_type": "code",
      "source": [
        "class Graph:\n",
        "  def __init__(self):\n",
        "    self.graph = {}\n",
        "    self.node_list = []\n",
        "  \n",
        "  # Add an edge to the graph  src: [(dest, weight)...]\n",
        "  def add_edge(self, src, dest, weight):\n",
        "    if not isinstance(src, Product):\n",
        "      raise Exception(\"source of edge Value Error\")\n",
        "    if not isinstance(dest, Product):\n",
        "      raise Exception(\"destination of edge Value Error\")\n",
        "\n",
        "    self.graph[src].append((dest, weight))\n",
        "  \n",
        "  # Add a node to the graph\n",
        "  def add_node(self, item):\n",
        "    if not isinstance(item, Product):\n",
        "      raise Exception(\"item is not a product Value Error\")\n",
        "    if(item in self.graph):\n",
        "      print(\"Item already in the graph\")\n",
        "      return\n",
        "    \n",
        "    self.graph[item] = list()\n",
        "    self.node_list.append(item)\n",
        "\n",
        "  # get all child nodes given a father\n",
        "  def get_child_nodes(self, father_node):\n",
        "    if not isinstance(father_node, Product):\n",
        "      raise Exception(\"node is not a product Value Error\")\n",
        "    if(father_node not in self.graph):\n",
        "      print(\"No match\")\n",
        "      return []\n",
        "    \n",
        "    return self.graph[father_node]\n",
        "\n",
        "  # get all nodes\n",
        "  def get_all_nodes(self):\n",
        "    return [*self.graph]\n",
        "\n",
        "  # Function to print adjacency list representation \n",
        "  def printGraph(self):\n",
        "    for (src, node_list) in self.graph.items():\n",
        "      print(f\"--- node: {src} ---\")\n",
        "      for (node, weight) in node_list:\n",
        "        print(f\"\\t( {src} )--[w:{weight:.3f}]-—>( {node} )\")\n",
        "\n",
        "\n",
        "  def recursive_visit(self, graph, start_node, node, node_prob, prob_list, purchased_set, secondary_list, expected_profits, user):\n",
        "    \n",
        "    if node.id not in secondary_list or node in purchased_set:\n",
        "      # stop in case this is not the second product or user already bought this\n",
        "      return\n",
        "\n",
        "    # update probability trace of the path leading to this point (all weights between root and this node & eventual lambda effects )\n",
        "    prob_list.append(node_prob)\n",
        "    if node.id == secondary_list[1]:\n",
        "      prob_list.append(user.lmbda)\n",
        "\n",
        "    #decide whether to buy\n",
        "    if(user.reservation_prices[node.id-1] >= node.price):\n",
        "\n",
        "        prob_to_be_here = np.prod(np.array(prob_list))  # cumulative probability to be in this node of the graph\n",
        "        \n",
        "        expected_profits[start_node.id][node.id-1] += prob_to_be_here * node.price * user.exp_number_purchase[node.id-1]  # compute profit of this purchase\n",
        "        purchased_set.add(node)\n",
        "        print(f\"user {user.id} with rp {user.reservation_prices[node.id-1]} BOUGHT {user.exp_number_purchase[node.id-1]} units of product {node.id} for {node.price}, probability:{prob_to_be_here}\")\n",
        "\n",
        "        for child, weight in graph.get_child_nodes(node): # for every child of the node try to start a recursive visit\n",
        "          self.recursive_visit(\n",
        "                    graph=graph,\n",
        "                    start_node=start_node,\n",
        "                    node=child,\n",
        "                    node_prob=weight,\n",
        "                    prob_list=prob_list,\n",
        "                    purchased_set=purchased_set,\n",
        "                    secondary_list=node.secondary_list,\n",
        "                    expected_profits= expected_profits,\n",
        "                    user=user\n",
        "                    )\n",
        "\n",
        "\n",
        "    prob_list.remove(node_prob)\n",
        "    if node.id == secondary_list[1]:\n",
        "      prob_list.remove(user.lmbda)"
      ],
      "metadata": {
        "id": "kFiid9ODkiNW"
      },
      "execution_count": 4,
      "outputs": []
    },
    {
      "cell_type": "markdown",
      "source": [
        ""
      ],
      "metadata": {
        "id": "e6vRTu2pZd-8"
      }
    },
    {
      "cell_type": "markdown",
      "source": [
        "This function creates a fully connected graph with the given weight using random probability weights"
      ],
      "metadata": {
        "id": "eBhMu8BH-h0a"
      }
    },
    {
      "cell_type": "code",
      "source": [
        "def random_fully_connected_graph(products=[]):\n",
        "  graph = Graph()\n",
        "\n",
        "  for prod in products:\n",
        "    graph.add_node(prod)\n",
        "  \n",
        "  for prod in products:\n",
        "    weights = get_probabilities(4, padding=0.1) # to change weights change here\n",
        "    child_products = products.copy()\n",
        "    child_products.remove(prod)\n",
        "    \n",
        "    for i, prod_child in enumerate(child_products):\n",
        "      graph.add_edge(prod, prod_child, weights[i])\n",
        "      \n",
        "  return graph"
      ],
      "metadata": {
        "id": "hmXkjCqc-gJI"
      },
      "execution_count": 5,
      "outputs": []
    },
    {
      "cell_type": "markdown",
      "source": [
        "# User, Campaign, Product Class definition"
      ],
      "metadata": {
        "id": "7DcZiPkZ-hyP"
      }
    },
    {
      "cell_type": "code",
      "source": [
        "class Knapsack:\n",
        "\n",
        "    def __init__(self, rewards, budgets):\n",
        "        # initialize rewards vector\n",
        "        self.rewards = rewards\n",
        "\n",
        "        # initialize budgets vector\n",
        "        self.budgets = budgets\n",
        "\n",
        "        self.allocations = np.zeros((rewards.shape[0] + 1, rewards.shape[1], rewards.shape[0]+1), dtype = float)\n",
        "\n",
        "        # initialize dynamic programming table, dimensions: (subcampaigns + 1, budgets)\n",
        "        self.dp_table = np.zeros((len(self.rewards) + 1, len(self.budgets)), dtype = float)\n",
        "\n",
        "    def solve(self):\n",
        "        n_rows = self.dp_table.shape[0]\n",
        "        n_columns = self.dp_table.shape[1]\n",
        "        # cycle for each row of the dp_table\n",
        "        new_alloc_index1 = -1\n",
        "        for row in range(1, n_rows):\n",
        "            # cycle for each row of the dp_table\n",
        "\n",
        "            # self.allocations[row] = self.allocations[row - 1]\n",
        "\n",
        "            for column in range(n_columns):\n",
        "                # initialize max value for each cell to minus infinity\n",
        "                max_value = -100\n",
        "                # cycle through each column until the current one (included, that's why there is a +1)\n",
        "\n",
        "                # set table entry to -100 in case of infeasible budget for the new sub campaign considered and\n",
        "                # previous sub campaign considered.\n",
        "                if self.rewards[row-1][column] <= 0 and self.dp_table[row - 1][column] <= 0:\n",
        "\n",
        "                    self.dp_table[row][column] = -100\n",
        "                    continue\n",
        "\n",
        "                for index in range(column + 1):\n",
        "                    # the current value is the sum of the subcampaign reward associated to [index] and the value of\n",
        "                    # the dp table associated to [previous row][column-index]\n",
        "                    # this way the sum is always equal to the budget expressed by the column\n",
        "\n",
        "                    if self.dp_table[row - 1][column - index] >= 0 and self.rewards[row - 1][index] >= 0:\n",
        "                        current_value = self.rewards[row - 1][index] + self.dp_table[row - 1][column - index]\n",
        "                    else:\n",
        "                        if self.rewards[row - 1][index] >= 0:\n",
        "                            current_value = self.rewards[row - 1][index]\n",
        "                        else:\n",
        "                            current_value = self.dp_table[row - 1][column]\n",
        "\n",
        "                        # update max value\n",
        "                    if current_value > max_value:\n",
        "                            max_value = current_value\n",
        "                            allocation = np.copy(self.allocations[row-1][column-index])\n",
        "                            allocation[row] = self.budgets[index]\n",
        "\n",
        "                            # self.allocations[row][column]\n",
        "\n",
        "                # update max value in the dp table\n",
        "\n",
        "                if row > 0:\n",
        "                    self.allocations[row][column] = allocation\n",
        "\n",
        "                self.dp_table[row][column] = max_value"
      ],
      "metadata": {
        "id": "JUg4ngZWpXeg"
      },
      "execution_count": 6,
      "outputs": []
    },
    {
      "cell_type": "code",
      "source": [
        "class Product:\n",
        "  def __init__(self, id, price, secondary_list = []):\n",
        "    self.id = id\n",
        "    self.price = price  # correspond to margin\n",
        "    self.secondary_list = secondary_list  # what to display after purchase (fixed)\n",
        "  \n",
        "  def __str__(self):\n",
        "    return f\"Product {self.id}\"\n",
        "\n",
        "  def add_secondary(self, product):\n",
        "    self.secondary_list.append(product)\n",
        "  "
      ],
      "metadata": {
        "id": "jyyWx16kJ1UY"
      },
      "execution_count": 7,
      "outputs": []
    },
    {
      "cell_type": "code",
      "source": [
        "class User:\n",
        "  def __init__(self, \n",
        "               id, \n",
        "               reservation_prices, \n",
        "               lmbda, \n",
        "               weighted_graph, \n",
        "               alpha_functions, \n",
        "               exp_number_purchase, \n",
        "               #expected_profits,\n",
        "               ):\n",
        "    self.id = id\n",
        "    self.reservation_prices = reservation_prices\n",
        "    self.lmbda = lmbda\n",
        "    self.weighted_graph = weighted_graph  # pass here the full weighted graph associated with the user\n",
        "    self.alpha_function = alpha_functions  # list of alpha_function specifing how the user react to a specific campaign\n",
        "    self.exp_number_purchase = exp_number_purchase\n",
        "\n",
        "\n",
        "    # Spostare logica fuori?\n",
        "    \"\"\"self.expected_profits = expected_profits.copy() # dict: key -> starting product, value -> expected profits\n",
        "    self._simulation_done = False\n",
        "    self._knapsack = None\"\"\"\n",
        "\n",
        "  \"\"\"  def value_per_click(self, product):\n",
        "      if self._simulation_done:\n",
        "        return sum(self.expected_profits[product])\n",
        "      else:\n",
        "        raise Exception(\"Must run simulation first\")\"\"\"   # Questa la gestirei fuori dagli user per adattarla al problema da risolvere\n",
        "    \n",
        "  \n",
        "  def set_graph(self, weighted_graph):\n",
        "    self.weighted_graph = weighted_graph\n",
        "\n",
        "  \"\"\"  def __clear_expected_profits(self):\n",
        "        for key in self.expected_profits:\n",
        "          lenght = len(self.expected_profits[key])\n",
        "          self.expected_profits[key] = [0 for _ in range(0, lenght)]\n",
        "\n",
        "\n",
        "  def build_knapsack(self, budgets, forbidden_configs):\n",
        "    if self._simulation_done:\n",
        "      rows = len(self.alpha_function)\n",
        "      columns = len(budgets)\n",
        "      rewards = np.empty(shape= (rows, columns), dtype = np.float32)\n",
        "\n",
        "      for row in range(rows):\n",
        "        for column in range(columns):\n",
        "          if (row, column) in forbidden_configs[row]:\n",
        "            rewards[row][column] = -100\n",
        "          else:\n",
        "            rewards[row][column] = self.value_per_click(product = row+1) * (max(self.alpha_function[row](x = budgets[column]), 0.0))\n",
        "      self._knapsack = Knapsack(rewards = rewards, budgets = budgets)\n",
        "    else:\n",
        "      raise Exception(\"Must run simulation first\")\n",
        "\n",
        "  def solve_dp(self):\n",
        "    if self._knapsack:\n",
        "      self._knapsack.solve()\n",
        "\n",
        "    else:\n",
        "      raise Exception(\"Must initialize knapsack problem first\")\n",
        "\n",
        "    return self._knapsack.rewards, self._knapsack.dp_table, self._knapsack.allocations\"\"\" # Spostare logica fuori?\n",
        "\n",
        "\n",
        "  def expected_profit(self):\n",
        "    nodes = self.weighted_graph.get_all_nodes()\n",
        "    expected_profits = [0, 0, 0, 0, 0]\n",
        "    # self.__clear_expected_profits()\n",
        "    # self._simulation_done = False\n",
        "\n",
        "    # apply dfs starting from every product page\n",
        "    for i, node in enumerate(nodes):\n",
        "      purchased_set = set() # keep track of the purchased products\n",
        "      prob_list = [1]       # list with the trace of probabilities collected\n",
        "\n",
        "      recursive_visit(graph= self.weighted_graph,\n",
        "                      root_id=i,\n",
        "                      node= node,\n",
        "                      node_prob= 1,\n",
        "                      prob_list= prob_list,\n",
        "                      purchased_set= purchased_set,\n",
        "                      secondary_list= [node.id, -1],\n",
        "                      expected_profits= expected_profits,\n",
        "                      user=self\n",
        "                      )\n",
        "      \n",
        "      #self._simulation_done = True\n",
        "      \n",
        "      print(f\"\\t\\t$$$ Expected profit of visited products: {expected_profits[node.id-1]} $$$\")\n",
        "      print(f\"\\t\\t--- End navigation started from {node} ---\\n\")\n",
        "      # print(f\"\\t\\t--- Expected profit of visit: {self.value_per_click(node.id)} ---\\n\")\n",
        "    \n",
        "    return expected_profits\n",
        "  "
      ],
      "metadata": {
        "id": "WUOIIEZHtp0w"
      },
      "execution_count": 32,
      "outputs": []
    },
    {
      "cell_type": "markdown",
      "source": [
        "Recursive algorithm used to emulate the user experience"
      ],
      "metadata": {
        "id": "XZ58scYcNbQs"
      }
    },
    {
      "cell_type": "code",
      "source": [
        "def recursive_visit(graph, root_id, node, node_prob, prob_list, purchased_set, secondary_list, expected_profits, user):\n",
        "  \n",
        "  if node.id not in secondary_list or node in purchased_set:\n",
        "    # stop in case this is not the second product or user already bought this\n",
        "    return\n",
        "\n",
        "  # update probability trace of the path leading to this point (all weights between root and this node & eventual lambda effects )\n",
        "  prob_list.append(node_prob)\n",
        "  if node.id == secondary_list[1]:\n",
        "    prob_list.append(user.lmbda)\n",
        "\n",
        "  #decide whether to buy\n",
        "  if(user.reservation_prices[node.id-1] >= node.price):\n",
        "\n",
        "    prob_to_be_here = np.prod(np.array(prob_list))  # cumulative probability to be in this node of the graph\n",
        "    expected_profits[root_id] += prob_to_be_here * node.price * user.exp_number_purchase[node.id-1]  # compute profit of this purchase\n",
        "    purchased_set.add(node)\n",
        "    print(f\"user {user.id} with rp {user.reservation_prices[node.id-1]} BOUGHT {user.exp_number_purchase} units of product {node.id} for {node.price}, probability:{prob_to_be_here}\")\n",
        "\n",
        "    for child, weight in graph.get_child_nodes(node): # for every child of the node try to start a recursive visit\n",
        "      recursive_visit(\n",
        "                graph=graph,\n",
        "                root_id=root_id,\n",
        "                node=child,\n",
        "                node_prob=weight,\n",
        "                prob_list=prob_list,\n",
        "                purchased_set=purchased_set,\n",
        "                secondary_list=node.secondary_list,\n",
        "                expected_profits= expected_profits,\n",
        "                user=user\n",
        "                )\n",
        "\n",
        "\n",
        "  prob_list.remove(node_prob)\n",
        "  if node.id == secondary_list[1]:\n",
        "    prob_list.remove(user.lmbda)\n"
      ],
      "metadata": {
        "id": "-rLXovPqgcpN"
      },
      "execution_count": 26,
      "outputs": []
    },
    {
      "cell_type": "code",
      "source": [
        "class Campaign:\n",
        "  def __init__(self, id, allocated_budget, value_per_click, alpha_i_max):\n",
        "    self.id = id\n",
        "    self.allocated_budget = allocated_budget\n",
        "    self.value_per_click = value_per_click\n",
        "    self.alpha_i_max = alpha_i_max\n",
        "\n",
        "  def change_budget(self, new_budget):\n",
        "    self.allocated_budget = new_budget\n",
        "  \n",
        "  def get_alpha_i(self, user_alpha_function):\n",
        "    return max(user_alpha_function(self.allocated_budget), self.alpha_i_max) # CHECK THIS POINT\n"
      ],
      "metadata": {
        "id": "bdHkrm5v-C3m"
      },
      "execution_count": 11,
      "outputs": []
    },
    {
      "cell_type": "markdown",
      "source": [
        "# Alpha function generator and testing\n",
        "\n",
        "this function is a generator of alpha functions based on saturation speed and value where to saturate, they are all sigmoid functions\n",
        "\n"
      ],
      "metadata": {
        "id": "e0aYlBztgjxa"
      }
    },
    {
      "cell_type": "code",
      "source": [
        "def new_alpha_function(saturation_speed = 1, max_value = 1, activation=0.1):\n",
        "  return lambda x: (-1 +  2 / (1 + np.exp(- saturation_speed * (x-activation))))*max_value"
      ],
      "metadata": {
        "id": "ESRKMQ74esvT"
      },
      "execution_count": 12,
      "outputs": []
    },
    {
      "cell_type": "markdown",
      "source": [
        "example on how to generate and visualize alpha_functions"
      ],
      "metadata": {
        "id": "mIEWHPuy_aOK"
      }
    },
    {
      "cell_type": "code",
      "source": [
        "test_alpha = [\n",
        "            new_alpha_function(saturation_speed=0.08, max_value=0.9, activation = 20),\n",
        "            new_alpha_function(saturation_speed=0.1, max_value=0.85, activation = 30),\n",
        "            new_alpha_function(saturation_speed=0.3, max_value=0.85, activation = 25),\n",
        "            new_alpha_function(saturation_speed=0.14, max_value=0.7, activation = 25),\n",
        "            new_alpha_function(saturation_speed=0.11, max_value=0.9, activation = 20),\n",
        "            new_alpha_function(saturation_speed=0.09, max_value=0.8, activation = 15)  \n",
        "]\n",
        "img, axss = plt.subplots(nrows=2, ncols=3, figsize=((13,6)))\n",
        "axs = axss.flatten()\n",
        "\n",
        "for i in range(6):\n",
        "  x = np.linspace(0,100, 100)\n",
        "  y = test_alpha[i](x).clip(min=0.0)\n",
        "  axs[i].set_xlabel(\"budget\") \n",
        "  axs[i].set_ylabel(\"alpha_val\") \n",
        "  axs[i].plot(x,y) \n",
        "img.show()"
      ],
      "metadata": {
        "colab": {
          "base_uri": "https://localhost:8080/",
          "height": 388
        },
        "id": "ZFEtk2XKhZXT",
        "outputId": "7b391cd0-3adb-4b53-85a0-47d364a7497c"
      },
      "execution_count": 13,
      "outputs": [
        {
          "output_type": "display_data",
          "data": {
            "text/plain": [
              "<Figure size 936x432 with 6 Axes>"
            ],
            "image/png": "[encoded data removed]"
          },
          "metadata": {
            "needs_background": "light"
          }
        }
      ]
    },
    {
      "cell_type": "markdown",
      "source": [
        "# Test Environment"
      ],
      "metadata": {
        "id": "NaVfm6A8Iba5"
      }
    },
    {
      "cell_type": "markdown",
      "source": [
        "Environment creation"
      ],
      "metadata": {
        "id": "kAKYLcuQBdiF"
      }
    },
    {
      "cell_type": "code",
      "source": [
        "# create alpha functions\n",
        "\"\"\" used test_alpha from cells above  \"\"\"\n",
        "\n",
        "# create 5 products\n",
        "\n",
        "prod1 = Product(1, 2.0, secondary_list=[2, 3])\n",
        "prod2 = Product(2, 2.5, secondary_list=[3, 4])\n",
        "prod3 = Product(3, 3.0, secondary_list=[1, 5])\n",
        "prod4 = Product(4, 4.0, secondary_list=[2, 5])\n",
        "prod5 = Product(5, 4.5, secondary_list=[1, 4])\n",
        "\n",
        "products = [prod1, prod2, prod3, prod4, prod5]\n",
        "\n",
        "\"\"\"expected_profits = {1: [0,0,0,0,0], \n",
        "                    2: [0,0,0,0,0], \n",
        "                    3: [0,0,0,0,0], \n",
        "                    4: [0,0,0,0,0], \n",
        "                    5: [0,0,0,0,0]}\"\"\"\n",
        "\n",
        "budgets = np.array([0, 10, 20, 30, 40, 50, 60, 70])\n",
        "\n",
        "forbidden_configs = [[(0,0), (0,5), (0,6), (0,7)],  # TODO: there sould be a different one for each user\n",
        "                     [(1,4),(1,5), (1,6), (1,7)],\n",
        "                     [(2,5), (2,6), (2,7)],\n",
        "                     [(3,0),(3,6), (3,7)],\n",
        "                     [(4,0), (4,7)]]\n",
        "\n",
        "# create 3 users\n",
        "\n",
        "user1 = User(id = 1,\n",
        "             reservation_prices=[6.0, 6.0, 6.0, 6.0, 6.0],\n",
        "             lmbda=0.7,\n",
        "             alpha_functions=test_alpha[:5],\n",
        "             exp_number_purchase=[2.1, 2.0, 1.0, 1.0, 0.0],\n",
        "             weighted_graph=random_fully_connected_graph(products),  # clarify: is the weighted graph per user or general? \n",
        "             # expected_profits = expected_profits\n",
        "             )\n",
        "             \n",
        "user2 = User(id = 2,\n",
        "             reservation_prices=[1.0, 2.0, 3.0, 4.0, 5.0],\n",
        "             lmbda=0.85,\n",
        "             alpha_functions=test_alpha[:5],\n",
        "             exp_number_purchase=[1.4, 2.2, 1.3, 1.0, 1.1],\n",
        "             weighted_graph=random_fully_connected_graph(products),\n",
        "             # expected_profits = expected_profits\n",
        "             )\n",
        "\n",
        "user3 = User(id = 3,\n",
        "             reservation_prices=[1.0, 3.0, 1.0, 1.5, 1.3],\n",
        "             lmbda=0.6,\n",
        "             alpha_functions=test_alpha[:5],\n",
        "             exp_number_purchase=[3.0, 2.0, 2.1, 1.6, 1.1],\n",
        "             weighted_graph=random_fully_connected_graph(products),\n",
        "             # expected_profits = expected_profits\n",
        "             )\n",
        "\n",
        "users = [user1, user2, user3]\n"
      ],
      "metadata": {
        "id": "tTJ3R8YAIg7i"
      },
      "execution_count": 33,
      "outputs": []
    },
    {
      "cell_type": "code",
      "source": [
        "graph = Graph()\n",
        "# node crearion\n",
        "graph.add_node(prod1)\n",
        "graph.add_node(prod2)\n",
        "graph.add_node(prod3)\n",
        "graph.add_node(prod4)\n",
        "graph.add_node(prod5)\n",
        "\n",
        "graph.printGraph()\n",
        "print(\"\\n\")\n",
        "\n",
        "# edge creation\n",
        "graph.add_edge(prod1, prod5, 3)\n",
        "graph.add_edge(prod1, prod2, 3)\n",
        "\n",
        "graph.add_edge(prod2, prod4, 3)\n",
        "graph.add_edge(prod2, prod3, 3)\n",
        "\n",
        "graph.add_edge(prod3, prod1, 3)\n",
        "graph.add_edge(prod3, prod5, 3)\n",
        "\n",
        "graph.printGraph()\n",
        "print(\"\\n\")\n",
        "\n",
        "# example random fully connected graph\n",
        "print(\"** fully connected graph ** \\n\")\n",
        "graph = random_fully_connected_graph(products)\n",
        "graph.printGraph()\n",
        "\n",
        "# child retrival\n",
        "print(\"\\nchilds of node 1:\")\n",
        "result = graph.get_child_nodes(prod1)\n",
        "print([f\"{node} weight:{weight}\" for (node, weight) in result])"
      ],
      "metadata": {
        "id": "Mnp4VSHnM2Ud"
      },
      "execution_count": null,
      "outputs": []
    },
    {
      "cell_type": "code",
      "source": [
        "user1.expected_profit()"
      ],
      "metadata": {
        "colab": {
          "base_uri": "https://localhost:8080/"
        },
        "id": "SzVgQoM3CXyB",
        "outputId": "4c7d5584-e4b8-43ae-c6ed-43b088eb109c"
      },
      "execution_count": 34,
      "outputs": [
        {
          "output_type": "stream",
          "name": "stdout",
          "text": [
            "user 1 with rp 6.0 BOUGHT [2.1, 2.0, 1.0, 1.0, 0.0] units of product 1 for 2.0, probability:1\n",
            "user 1 with rp 6.0 BOUGHT [2.1, 2.0, 1.0, 1.0, 0.0] units of product 2 for 2.5, probability:0.12413793103448276\n",
            "user 1 with rp 6.0 BOUGHT [2.1, 2.0, 1.0, 1.0, 0.0] units of product 3 for 3.0, probability:0.00225705329153605\n",
            "user 1 with rp 6.0 BOUGHT [2.1, 2.0, 1.0, 1.0, 0.0] units of product 5 for 4.5, probability:0.0005273433120886877\n",
            "user 1 with rp 6.0 BOUGHT [2.1, 2.0, 1.0, 1.0, 0.0] units of product 4 for 4.0, probability:0.00010310470963940894\n",
            "\t\t$$$ Expected profit of visited products: 4.82787323388558 $$$\n",
            "\t\t--- End navigation started from Product 1 ---\n",
            "\n",
            "user 1 with rp 6.0 BOUGHT [2.1, 2.0, 1.0, 1.0, 0.0] units of product 2 for 2.5, probability:1\n",
            "user 1 with rp 6.0 BOUGHT [2.1, 2.0, 1.0, 1.0, 0.0] units of product 3 for 3.0, probability:0.01818181818181818\n",
            "user 1 with rp 6.0 BOUGHT [2.1, 2.0, 1.0, 1.0, 0.0] units of product 1 for 2.0, probability:0.0023841059602649007\n",
            "user 1 with rp 6.0 BOUGHT [2.1, 2.0, 1.0, 1.0, 0.0] units of product 5 for 4.5, probability:0.004248043347381095\n",
            "user 1 with rp 6.0 BOUGHT [2.1, 2.0, 1.0, 1.0, 0.0] units of product 4 for 4.0, probability:0.0008305657165396831\n",
            "\t\t$$$ Expected profit of visited products: 5.067880962444726 $$$\n",
            "\t\t--- End navigation started from Product 2 ---\n",
            "\n",
            "user 1 with rp 6.0 BOUGHT [2.1, 2.0, 1.0, 1.0, 0.0] units of product 3 for 3.0, probability:1\n",
            "user 1 with rp 6.0 BOUGHT [2.1, 2.0, 1.0, 1.0, 0.0] units of product 1 for 2.0, probability:0.13112582781456955\n",
            "user 1 with rp 6.0 BOUGHT [2.1, 2.0, 1.0, 1.0, 0.0] units of product 2 for 2.5, probability:0.016277688970084497\n",
            "user 1 with rp 6.0 BOUGHT [2.1, 2.0, 1.0, 1.0, 0.0] units of product 4 for 4.0, probability:0.0035218999771637364\n",
            "user 1 with rp 6.0 BOUGHT [2.1, 2.0, 1.0, 1.0, 0.0] units of product 5 for 4.5, probability:0.0005613823698539305\n",
            "\t\t$$$ Expected profit of visited products: 3.6462045215802696 $$$\n",
            "\t\t--- End navigation started from Product 3 ---\n",
            "\n",
            "user 1 with rp 6.0 BOUGHT [2.1, 2.0, 1.0, 1.0, 0.0] units of product 4 for 4.0, probability:1\n",
            "user 1 with rp 6.0 BOUGHT [2.1, 2.0, 1.0, 1.0, 0.0] units of product 2 for 2.5, probability:0.15180722891566265\n",
            "user 1 with rp 6.0 BOUGHT [2.1, 2.0, 1.0, 1.0, 0.0] units of product 3 for 3.0, probability:0.00276013143483023\n",
            "user 1 with rp 6.0 BOUGHT [2.1, 2.0, 1.0, 1.0, 0.0] units of product 1 for 2.0, probability:0.0003619245192691295\n",
            "user 1 with rp 6.0 BOUGHT [2.1, 2.0, 1.0, 1.0, 0.0] units of product 5 for 4.5, probability:0.0006448836888795397\n",
            "\t\t$$$ Expected profit of visited products: 4.768836621863734 $$$\n",
            "\t\t--- End navigation started from Product 4 ---\n",
            "\n",
            "user 1 with rp 6.0 BOUGHT [2.1, 2.0, 1.0, 1.0, 0.0] units of product 5 for 4.5, probability:1\n",
            "user 1 with rp 6.0 BOUGHT [2.1, 2.0, 1.0, 1.0, 0.0] units of product 1 for 2.0, probability:0.16927899686520378\n",
            "user 1 with rp 6.0 BOUGHT [2.1, 2.0, 1.0, 1.0, 0.0] units of product 2 for 2.5, probability:0.02101394443843909\n",
            "user 1 with rp 6.0 BOUGHT [2.1, 2.0, 1.0, 1.0, 0.0] units of product 3 for 3.0, probability:0.00038207171706252887\n",
            "user 1 with rp 6.0 BOUGHT [2.1, 2.0, 1.0, 1.0, 0.0] units of product 4 for 4.0, probability:0.004546653433044094\n",
            "\t\t$$$ Expected profit of visited products: 0.8353743379094154 $$$\n",
            "\t\t--- End navigation started from Product 5 ---\n",
            "\n"
          ]
        },
        {
          "output_type": "execute_result",
          "data": {
            "text/plain": [
              "[4.82787323388558,\n",
              " 5.067880962444726,\n",
              " 3.6462045215802696,\n",
              " 4.768836621863734,\n",
              " 0.8353743379094154]"
            ]
          },
          "metadata": {},
          "execution_count": 34
        }
      ]
    },
    {
      "cell_type": "code",
      "source": [
        "user2.expected_profit()"
      ],
      "metadata": {
        "colab": {
          "base_uri": "https://localhost:8080/"
        },
        "id": "ZDNytgffHeuH",
        "outputId": "274b6a36-1afd-4402-8194-32e4788d3687"
      },
      "execution_count": 35,
      "outputs": [
        {
          "output_type": "stream",
          "name": "stdout",
          "text": [
            "\t\t$$$ Expected profit of visited products: 0 $$$\n",
            "\t\t--- End navigation started from Product 1 ---\n",
            "\n",
            "\t\t$$$ Expected profit of visited products: 0 $$$\n",
            "\t\t--- End navigation started from Product 2 ---\n",
            "\n",
            "user 2 with rp 3.0 BOUGHT [1.4, 2.2, 1.3, 1.0, 1.1] units of product 3 for 3.0, probability:1\n",
            "user 2 with rp 5.0 BOUGHT [1.4, 2.2, 1.3, 1.0, 1.1] units of product 5 for 4.5, probability:0.24323076923076928\n",
            "user 2 with rp 4.0 BOUGHT [1.4, 2.2, 1.3, 1.0, 1.1] units of product 4 for 4.0, probability:0.07528906180524679\n",
            "\t\t$$$ Expected profit of visited products: 5.405148554913296 $$$\n",
            "\t\t--- End navigation started from Product 3 ---\n",
            "\n",
            "user 2 with rp 4.0 BOUGHT [1.4, 2.2, 1.3, 1.0, 1.1] units of product 4 for 4.0, probability:1\n",
            "user 2 with rp 5.0 BOUGHT [1.4, 2.2, 1.3, 1.0, 1.1] units of product 5 for 4.5, probability:0.18910112359550563\n",
            "\t\t$$$ Expected profit of visited products: 4.936050561797753 $$$\n",
            "\t\t--- End navigation started from Product 4 ---\n",
            "\n",
            "user 2 with rp 5.0 BOUGHT [1.4, 2.2, 1.3, 1.0, 1.1] units of product 5 for 4.5, probability:1\n",
            "user 2 with rp 4.0 BOUGHT [1.4, 2.2, 1.3, 1.0, 1.1] units of product 4 for 4.0, probability:0.30953757225433526\n",
            "\t\t$$$ Expected profit of visited products: 6.188150289017341 $$$\n",
            "\t\t--- End navigation started from Product 5 ---\n",
            "\n"
          ]
        },
        {
          "output_type": "execute_result",
          "data": {
            "text/plain": [
              "[0, 0, 5.405148554913296, 4.936050561797753, 6.188150289017341]"
            ]
          },
          "metadata": {},
          "execution_count": 35
        }
      ]
    },
    {
      "cell_type": "code",
      "source": [
        "user3.expected_profit()"
      ],
      "metadata": {
        "colab": {
          "base_uri": "https://localhost:8080/"
        },
        "id": "6BgPhxeZKUT9",
        "outputId": "1eaf44eb-4690-49be-da79-a2d4d3c8d566"
      },
      "execution_count": 36,
      "outputs": [
        {
          "output_type": "stream",
          "name": "stdout",
          "text": [
            "\t\t$$$ Expected profit of visited products: 0 $$$\n",
            "\t\t--- End navigation started from Product 1 ---\n",
            "\n",
            "user 3 with rp 3.0 BOUGHT [3.0, 2.0, 2.1, 1.6, 1.1] units of product 2 for 2.5, probability:1\n",
            "\t\t$$$ Expected profit of visited products: 5.0 $$$\n",
            "\t\t--- End navigation started from Product 2 ---\n",
            "\n",
            "\t\t$$$ Expected profit of visited products: 0 $$$\n",
            "\t\t--- End navigation started from Product 3 ---\n",
            "\n",
            "\t\t$$$ Expected profit of visited products: 0 $$$\n",
            "\t\t--- End navigation started from Product 4 ---\n",
            "\n",
            "\t\t$$$ Expected profit of visited products: 0 $$$\n",
            "\t\t--- End navigation started from Product 5 ---\n",
            "\n"
          ]
        },
        {
          "output_type": "execute_result",
          "data": {
            "text/plain": [
              "[0, 5.0, 0, 0, 0]"
            ]
          },
          "metadata": {},
          "execution_count": 36
        }
      ]
    },
    {
      "cell_type": "markdown",
      "source": [
        "Examples on basic usage of the graph"
      ],
      "metadata": {
        "id": "w0mE_Nrrp474"
      }
    },
    {
      "cell_type": "markdown",
      "source": [
        ""
      ],
      "metadata": {
        "id": "NBLBQik3u-Fs"
      }
    },
    {
      "cell_type": "code",
      "source": [
        "%%capture\n",
        "user1.build_knapsack(budgets = budgets, forbidden_configs = forbidden_configs)\n",
        "\n",
        "rewards, dp_table, allocations = user1.solve_dp() "
      ],
      "metadata": {
        "id": "IDMX1OStvBpl"
      },
      "execution_count": null,
      "outputs": []
    },
    {
      "cell_type": "code",
      "source": [
        "np.set_printoptions(precision=3)\n",
        "print(rewards)\n",
        "print(\"--\"*10)\n",
        "print(dp_table)\n",
        "\n",
        "# TODO: CHECK CORRECTNESS OF KNAPSACK"
      ],
      "metadata": {
        "id": "GW3BsHSIvbip"
      },
      "execution_count": null,
      "outputs": []
    }
  ]
}